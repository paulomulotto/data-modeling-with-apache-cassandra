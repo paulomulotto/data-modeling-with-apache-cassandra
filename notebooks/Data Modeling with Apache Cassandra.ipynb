{
 "cells": [
  {
   "cell_type": "markdown",
   "id": "e57f8114",
   "metadata": {},
   "source": [
    "# Part I. ETL Pipeline for Pre-Processing the Files"
   ]
  },
  {
   "cell_type": "markdown",
   "id": "c7a52d07",
   "metadata": {},
   "source": [
    "The goal of this project is to develop a data processing pipeline that extracts, transforms, and loads music app streaming data from CSV files into Apache Cassandra.\n",
    "\n",
    "The pipeline enables querying and analysis of the music app history to answer specific questions about the artists, songs, and user interactions within the app.\n",
    "\n",
    "The project demonstrates the use of Apache Cassandra as a powerful database solution for handling large-scale data with high availability and performance, providing valuable insights for music app analytics and decision-making."
   ]
  },
  {
   "cell_type": "markdown",
   "id": "871f00b3",
   "metadata": {},
   "source": [
    "#### Import Python packages "
   ]
  },
  {
   "cell_type": "code",
   "execution_count": 1,
   "id": "9a82a379",
   "metadata": {},
   "outputs": [],
   "source": [
    "from libs.files.readers.csv_reader import CSVReader\n",
    "from libs.files.collector import FileCollector\n",
    "import os\n",
    "from libs.files.readers.csv_reader import CSVReader\n",
    "from libs.files.writers.csv import CSVWriter\n",
    "from libs.databases.connectors.cassandra_db import CassandraConnector\n",
    "from libs.databases.managers.cassandra_db import CassandraTableManager\n",
    "import pandas as pd"
   ]
  },
  {
   "cell_type": "code",
   "execution_count": 2,
   "id": "4ce28852",
   "metadata": {},
   "outputs": [],
   "source": [
    "# Path where raw data files are\n",
    "PATH_RAW_DATA = '/data/raw/event_data'\n",
    "PATH_PROCESSED_FILE = '/data/processed/event_datafile_new.csv'"
   ]
  },
  {
   "cell_type": "markdown",
   "id": "1eedc743",
   "metadata": {},
   "source": [
    "#### Creating list of filepaths to process original event csv data files"
   ]
  },
  {
   "cell_type": "code",
   "execution_count": 3,
   "id": "f92794e9",
   "metadata": {},
   "outputs": [],
   "source": [
    "files = FileCollector(PATH_RAW_DATA)\n",
    "file_paths = files.collect_files()"
   ]
  },
  {
   "cell_type": "markdown",
   "id": "da9a506d",
   "metadata": {},
   "source": [
    "#### Processing the files to create the data file csv that will be used for Apache Casssandra tables"
   ]
  },
  {
   "cell_type": "code",
   "execution_count": 4,
   "id": "7a3760a4",
   "metadata": {},
   "outputs": [],
   "source": [
    "reader = CSVReader(file_paths)\n",
    "reader.apply_filter(lambda row: pd.notnull(row['artist']))\n",
    "df_data = reader.data"
   ]
  },
  {
   "cell_type": "code",
   "execution_count": 5,
   "id": "dc80f0a7",
   "metadata": {},
   "outputs": [
    {
     "data": {
      "text/html": [
       "<div>\n",
       "<style scoped>\n",
       "    .dataframe tbody tr th:only-of-type {\n",
       "        vertical-align: middle;\n",
       "    }\n",
       "\n",
       "    .dataframe tbody tr th {\n",
       "        vertical-align: top;\n",
       "    }\n",
       "\n",
       "    .dataframe thead th {\n",
       "        text-align: right;\n",
       "    }\n",
       "</style>\n",
       "<table border=\"1\" class=\"dataframe\">\n",
       "  <thead>\n",
       "    <tr style=\"text-align: right;\">\n",
       "      <th></th>\n",
       "      <th>artist</th>\n",
       "      <th>auth</th>\n",
       "      <th>firstName</th>\n",
       "      <th>gender</th>\n",
       "      <th>itemInSession</th>\n",
       "      <th>lastName</th>\n",
       "      <th>length</th>\n",
       "      <th>level</th>\n",
       "      <th>location</th>\n",
       "      <th>method</th>\n",
       "      <th>page</th>\n",
       "      <th>registration</th>\n",
       "      <th>sessionId</th>\n",
       "      <th>song</th>\n",
       "      <th>status</th>\n",
       "      <th>ts</th>\n",
       "      <th>userId</th>\n",
       "    </tr>\n",
       "  </thead>\n",
       "  <tbody>\n",
       "    <tr>\n",
       "      <th>2</th>\n",
       "      <td>Des'ree</td>\n",
       "      <td>Logged In</td>\n",
       "      <td>Kaylee</td>\n",
       "      <td>F</td>\n",
       "      <td>1</td>\n",
       "      <td>Summers</td>\n",
       "      <td>246.30812</td>\n",
       "      <td>free</td>\n",
       "      <td>Phoenix-Mesa-Scottsdale, AZ</td>\n",
       "      <td>PUT</td>\n",
       "      <td>NextSong</td>\n",
       "      <td>1.540340e+12</td>\n",
       "      <td>139</td>\n",
       "      <td>You Gotta Be</td>\n",
       "      <td>200</td>\n",
       "      <td>1.541110e+12</td>\n",
       "      <td>8.0</td>\n",
       "    </tr>\n",
       "    <tr>\n",
       "      <th>4</th>\n",
       "      <td>Mr Oizo</td>\n",
       "      <td>Logged In</td>\n",
       "      <td>Kaylee</td>\n",
       "      <td>F</td>\n",
       "      <td>3</td>\n",
       "      <td>Summers</td>\n",
       "      <td>144.03873</td>\n",
       "      <td>free</td>\n",
       "      <td>Phoenix-Mesa-Scottsdale, AZ</td>\n",
       "      <td>PUT</td>\n",
       "      <td>NextSong</td>\n",
       "      <td>1.540340e+12</td>\n",
       "      <td>139</td>\n",
       "      <td>Flat 55</td>\n",
       "      <td>200</td>\n",
       "      <td>1.541110e+12</td>\n",
       "      <td>8.0</td>\n",
       "    </tr>\n",
       "    <tr>\n",
       "      <th>5</th>\n",
       "      <td>Tamba Trio</td>\n",
       "      <td>Logged In</td>\n",
       "      <td>Kaylee</td>\n",
       "      <td>F</td>\n",
       "      <td>4</td>\n",
       "      <td>Summers</td>\n",
       "      <td>177.18812</td>\n",
       "      <td>free</td>\n",
       "      <td>Phoenix-Mesa-Scottsdale, AZ</td>\n",
       "      <td>PUT</td>\n",
       "      <td>NextSong</td>\n",
       "      <td>1.540340e+12</td>\n",
       "      <td>139</td>\n",
       "      <td>Quem Quiser Encontrar O Amor</td>\n",
       "      <td>200</td>\n",
       "      <td>1.541110e+12</td>\n",
       "      <td>8.0</td>\n",
       "    </tr>\n",
       "    <tr>\n",
       "      <th>6</th>\n",
       "      <td>The Mars Volta</td>\n",
       "      <td>Logged In</td>\n",
       "      <td>Kaylee</td>\n",
       "      <td>F</td>\n",
       "      <td>5</td>\n",
       "      <td>Summers</td>\n",
       "      <td>380.42077</td>\n",
       "      <td>free</td>\n",
       "      <td>Phoenix-Mesa-Scottsdale, AZ</td>\n",
       "      <td>PUT</td>\n",
       "      <td>NextSong</td>\n",
       "      <td>1.540340e+12</td>\n",
       "      <td>139</td>\n",
       "      <td>Eriatarka</td>\n",
       "      <td>200</td>\n",
       "      <td>1.541110e+12</td>\n",
       "      <td>8.0</td>\n",
       "    </tr>\n",
       "    <tr>\n",
       "      <th>7</th>\n",
       "      <td>Infected Mushroom</td>\n",
       "      <td>Logged In</td>\n",
       "      <td>Kaylee</td>\n",
       "      <td>F</td>\n",
       "      <td>6</td>\n",
       "      <td>Summers</td>\n",
       "      <td>440.26730</td>\n",
       "      <td>free</td>\n",
       "      <td>Phoenix-Mesa-Scottsdale, AZ</td>\n",
       "      <td>PUT</td>\n",
       "      <td>NextSong</td>\n",
       "      <td>1.540340e+12</td>\n",
       "      <td>139</td>\n",
       "      <td>Becoming Insane</td>\n",
       "      <td>200</td>\n",
       "      <td>1.541110e+12</td>\n",
       "      <td>8.0</td>\n",
       "    </tr>\n",
       "  </tbody>\n",
       "</table>\n",
       "</div>"
      ],
      "text/plain": [
       "              artist       auth firstName gender  itemInSession lastName   \n",
       "2            Des'ree  Logged In    Kaylee      F              1  Summers  \\\n",
       "4            Mr Oizo  Logged In    Kaylee      F              3  Summers   \n",
       "5         Tamba Trio  Logged In    Kaylee      F              4  Summers   \n",
       "6     The Mars Volta  Logged In    Kaylee      F              5  Summers   \n",
       "7  Infected Mushroom  Logged In    Kaylee      F              6  Summers   \n",
       "\n",
       "      length level                     location method      page   \n",
       "2  246.30812  free  Phoenix-Mesa-Scottsdale, AZ    PUT  NextSong  \\\n",
       "4  144.03873  free  Phoenix-Mesa-Scottsdale, AZ    PUT  NextSong   \n",
       "5  177.18812  free  Phoenix-Mesa-Scottsdale, AZ    PUT  NextSong   \n",
       "6  380.42077  free  Phoenix-Mesa-Scottsdale, AZ    PUT  NextSong   \n",
       "7  440.26730  free  Phoenix-Mesa-Scottsdale, AZ    PUT  NextSong   \n",
       "\n",
       "   registration  sessionId                          song  status   \n",
       "2  1.540340e+12        139                  You Gotta Be     200  \\\n",
       "4  1.540340e+12        139                       Flat 55     200   \n",
       "5  1.540340e+12        139  Quem Quiser Encontrar O Amor     200   \n",
       "6  1.540340e+12        139                     Eriatarka     200   \n",
       "7  1.540340e+12        139               Becoming Insane     200   \n",
       "\n",
       "             ts  userId  \n",
       "2  1.541110e+12     8.0  \n",
       "4  1.541110e+12     8.0  \n",
       "5  1.541110e+12     8.0  \n",
       "6  1.541110e+12     8.0  \n",
       "7  1.541110e+12     8.0  "
      ]
     },
     "execution_count": 5,
     "metadata": {},
     "output_type": "execute_result"
    }
   ],
   "source": [
    "df_data.head()"
   ]
  },
  {
   "cell_type": "code",
   "execution_count": 6,
   "id": "149cde20",
   "metadata": {},
   "outputs": [],
   "source": [
    "writer = CSVWriter()\n",
    "columns = [\n",
    "    'artist',\n",
    "    'firstName',\n",
    "    'gender',\n",
    "    'itemInSession',\n",
    "    'lastName',\n",
    "    'length',\n",
    "    'level',\n",
    "    'location',\n",
    "    'sessionId',\n",
    "    'song',\n",
    "    'userId'\n",
    "]\n",
    "\n",
    "df_data = writer.write_data(file_path=PATH_PROCESSED_FILE, data=df_data, columns=columns)"
   ]
  },
  {
   "cell_type": "markdown",
   "id": "2dacae21",
   "metadata": {},
   "source": [
    "### Loading Data in Apache Cassandra"
   ]
  },
  {
   "cell_type": "markdown",
   "id": "7e2335db",
   "metadata": {},
   "source": [
    "#### Creating a Apache Cassandra Cluster"
   ]
  },
  {
   "cell_type": "code",
   "execution_count": 7,
   "id": "840cb90f",
   "metadata": {},
   "outputs": [],
   "source": [
    "cassandra_conn = CassandraConnector(contact_points=['cassandra'])\n",
    "cassandra_conn.connect()"
   ]
  },
  {
   "cell_type": "markdown",
   "id": "91d3dae3",
   "metadata": {},
   "source": [
    "**Create and set keyspace**"
   ]
  },
  {
   "cell_type": "code",
   "execution_count": 8,
   "id": "174e461b",
   "metadata": {},
   "outputs": [],
   "source": [
    "table_manager = CassandraTableManager(connector=cassandra_conn, keyspace='data_modeling')\n",
    "table_manager.create_keyspace()\n",
    "table_manager.set_keyspace()"
   ]
  },
  {
   "cell_type": "markdown",
   "id": "1fbfa8c1",
   "metadata": {},
   "source": [
    "#### Creating tables"
   ]
  },
  {
   "cell_type": "code",
   "execution_count": 9,
   "id": "8a4571a4",
   "metadata": {},
   "outputs": [],
   "source": [
    "from typing import Dict, List\n",
    "def create_table(table_name: str, partition_key: List[str], columns: Dict[str, str],\n",
    "                 df_data: pd.DataFrame, clustering_key: List[str]=[]) -> None:\n",
    "    \"\"\"\n",
    "    Creates a table in Apache Cassandra database, defines its schema, and inserts data into the table.\n",
    "\n",
    "    Args:\n",
    "        table_name (str): The name of the table to create.\n",
    "        partition_key List[str]:\n",
    "                List of primary key columns\n",
    "        clustering_key List[str]:\n",
    "                List of clustering key columns\n",
    "        columns (Dict[str, str]): A dictionary of column names and their data types.\n",
    "                                  Key: The column name.\n",
    "                                  Value: The data type of the column.\n",
    "        df_data (pd.DataFrame): The DataFrame containing the data to be inserted into the table.\n",
    "\n",
    "    Returns:\n",
    "        None.\n",
    "    \"\"\"\n",
    "    # Drop the table if it already exists\n",
    "    table_manager.drop_table(table_name)\n",
    "\n",
    "    # Create the table with the specified schema\n",
    "    table_manager.create_table(table_name=table_name, columns=columns, partition_key=partition_key, clustering_key=clustering_key)\n",
    "\n",
    "    # Extract the relevant columns from the DataFrame and convert it to a list of dictionaries\n",
    "    data = df_data[columns.keys()].to_dict(orient='records')\n",
    "\n",
    "    # Insert the data into the table\n",
    "    table_manager.insert_data(table_name=table_name, data=data)\n"
   ]
  },
  {
   "cell_type": "code",
   "execution_count": 10,
   "id": "a336c716",
   "metadata": {},
   "outputs": [],
   "source": [
    "table_name = 'song_length'\n",
    "\n",
    "columns={\n",
    "        'artist': 'text',\n",
    "        'song': 'text',\n",
    "        'length': 'float',\n",
    "        'sessionId': 'int',\n",
    "        'itemInSession': 'int'\n",
    "    }\n",
    "\n",
    "partition_key= ['sessionId', 'itemInSession']\n",
    "\n",
    "create_table(\n",
    "    table_name=table_name,\n",
    "    partition_key=partition_key,\n",
    "    columns=columns,\n",
    "    df_data=df_data\n",
    ")"
   ]
  },
  {
   "cell_type": "code",
   "execution_count": 11,
   "id": "4f54d3ad",
   "metadata": {},
   "outputs": [],
   "source": [
    "table_name = \"song_by_user_and_session\"\n",
    "\n",
    "columns = {\n",
    "    \"artist\": \"text\",\n",
    "    \"song\": \"text\",\n",
    "    \"itemInSession\": \"int\",\n",
    "    \"firstName\": \"text\",\n",
    "    \"lastName\": \"text\",\n",
    "    \"userId\": \"float\",\n",
    "    \"sessionId\": \"int\",\n",
    "}\n",
    "\n",
    "partition_key = [\"userId\", \"sessionId\"]\n",
    "clustering_key = [\"itemInSession\"]\n",
    "\n",
    "create_table(\n",
    "    table_name=table_name,\n",
    "    partition_key=partition_key,\n",
    "    clustering_key=clustering_key,\n",
    "    columns=columns,\n",
    "    df_data=df_data\n",
    ")"
   ]
  },
  {
   "cell_type": "code",
   "execution_count": 12,
   "id": "9527c9e9",
   "metadata": {},
   "outputs": [],
   "source": [
    "table_name = \"users_by_song\"\n",
    "columns = {\n",
    "    \"firstName\": \"text\",\n",
    "    \"lastName\": \"text\",\n",
    "    \"song\": \"text\",\n",
    "}\n",
    "partition_key = [\"song\"]\n",
    "clustering_key = [\"firstName\", \"lastName\"]\n",
    "\n",
    "create_table(\n",
    "    table_name=table_name,\n",
    "    partition_key=partition_key,\n",
    "    clustering_key=clustering_key,\n",
    "    columns=columns,\n",
    "    df_data=df_data\n",
    ")"
   ]
  },
  {
   "cell_type": "markdown",
   "id": "c09ff646",
   "metadata": {},
   "source": [
    "### Business Insights"
   ]
  },
  {
   "cell_type": "markdown",
   "id": "122345c3",
   "metadata": {},
   "source": [
    "#### Give me the artist, song title and song's length in the music app history that was heard during sessionId = 338, and itemInSession = 4"
   ]
  },
  {
   "cell_type": "code",
   "execution_count": 13,
   "id": "59fad57b",
   "metadata": {},
   "outputs": [
    {
     "data": {
      "text/html": [
       "<div>\n",
       "<style scoped>\n",
       "    .dataframe tbody tr th:only-of-type {\n",
       "        vertical-align: middle;\n",
       "    }\n",
       "\n",
       "    .dataframe tbody tr th {\n",
       "        vertical-align: top;\n",
       "    }\n",
       "\n",
       "    .dataframe thead th {\n",
       "        text-align: right;\n",
       "    }\n",
       "</style>\n",
       "<table border=\"1\" class=\"dataframe\">\n",
       "  <thead>\n",
       "    <tr style=\"text-align: right;\">\n",
       "      <th></th>\n",
       "      <th>artist</th>\n",
       "      <th>song</th>\n",
       "      <th>length</th>\n",
       "      <th>sessionid</th>\n",
       "      <th>iteminsession</th>\n",
       "    </tr>\n",
       "  </thead>\n",
       "  <tbody>\n",
       "    <tr>\n",
       "      <th>0</th>\n",
       "      <td>Faithless</td>\n",
       "      <td>Music Matters (Mark Knight Dub)</td>\n",
       "      <td>495.307312</td>\n",
       "      <td>338</td>\n",
       "      <td>4</td>\n",
       "    </tr>\n",
       "  </tbody>\n",
       "</table>\n",
       "</div>"
      ],
      "text/plain": [
       "      artist                             song      length  sessionid   \n",
       "0  Faithless  Music Matters (Mark Knight Dub)  495.307312        338  \\\n",
       "\n",
       "   iteminsession  \n",
       "0              4  "
      ]
     },
     "execution_count": 13,
     "metadata": {},
     "output_type": "execute_result"
    }
   ],
   "source": [
    "query = \"\"\"\n",
    "    SELECT artist, song, length, sessionId, itemInSession\n",
    "    FROM song_length\n",
    "    WHERE sessionId = 338\n",
    "      AND itemInSession = 4\n",
    "\"\"\"\n",
    "\n",
    "df = table_manager.query_to_dataframe(query)\n",
    "df"
   ]
  },
  {
   "cell_type": "markdown",
   "id": "d64788b5",
   "metadata": {},
   "source": [
    "#### Give me only the following: name of artist, song (sorted by itemInSession) and user (first and last name) for userid = 10, sessionid = 182"
   ]
  },
  {
   "cell_type": "code",
   "execution_count": 14,
   "id": "6bab2920",
   "metadata": {},
   "outputs": [
    {
     "data": {
      "text/html": [
       "<div>\n",
       "<style scoped>\n",
       "    .dataframe tbody tr th:only-of-type {\n",
       "        vertical-align: middle;\n",
       "    }\n",
       "\n",
       "    .dataframe tbody tr th {\n",
       "        vertical-align: top;\n",
       "    }\n",
       "\n",
       "    .dataframe thead th {\n",
       "        text-align: right;\n",
       "    }\n",
       "</style>\n",
       "<table border=\"1\" class=\"dataframe\">\n",
       "  <thead>\n",
       "    <tr style=\"text-align: right;\">\n",
       "      <th></th>\n",
       "      <th>artist</th>\n",
       "      <th>song</th>\n",
       "      <th>firstname</th>\n",
       "      <th>lastname</th>\n",
       "    </tr>\n",
       "  </thead>\n",
       "  <tbody>\n",
       "    <tr>\n",
       "      <th>0</th>\n",
       "      <td>Down To The Bone</td>\n",
       "      <td>Keep On Keepin' On</td>\n",
       "      <td>Sylvie</td>\n",
       "      <td>Cruz</td>\n",
       "    </tr>\n",
       "    <tr>\n",
       "      <th>1</th>\n",
       "      <td>Three Drives</td>\n",
       "      <td>Greece 2000</td>\n",
       "      <td>Sylvie</td>\n",
       "      <td>Cruz</td>\n",
       "    </tr>\n",
       "    <tr>\n",
       "      <th>2</th>\n",
       "      <td>Sebastien Tellier</td>\n",
       "      <td>Kilometer</td>\n",
       "      <td>Sylvie</td>\n",
       "      <td>Cruz</td>\n",
       "    </tr>\n",
       "    <tr>\n",
       "      <th>3</th>\n",
       "      <td>Lonnie Gordon</td>\n",
       "      <td>Catch You Baby (Steve Pitron &amp; Max Sanna Radio...</td>\n",
       "      <td>Sylvie</td>\n",
       "      <td>Cruz</td>\n",
       "    </tr>\n",
       "  </tbody>\n",
       "</table>\n",
       "</div>"
      ],
      "text/plain": [
       "              artist                                               song   \n",
       "0   Down To The Bone                                 Keep On Keepin' On  \\\n",
       "1       Three Drives                                        Greece 2000   \n",
       "2  Sebastien Tellier                                          Kilometer   \n",
       "3      Lonnie Gordon  Catch You Baby (Steve Pitron & Max Sanna Radio...   \n",
       "\n",
       "  firstname lastname  \n",
       "0    Sylvie     Cruz  \n",
       "1    Sylvie     Cruz  \n",
       "2    Sylvie     Cruz  \n",
       "3    Sylvie     Cruz  "
      ]
     },
     "execution_count": 14,
     "metadata": {},
     "output_type": "execute_result"
    }
   ],
   "source": [
    "query = \"\"\"\n",
    "    SELECT artist, song, firstName, lastName\n",
    "    FROM song_by_user_and_session\n",
    "    WHERE userId = 10 AND sessionId = 182\n",
    "\"\"\"\n",
    "\n",
    "df = table_manager.query_to_dataframe(query)\n",
    "df"
   ]
  },
  {
   "cell_type": "markdown",
   "id": "4b52c64b",
   "metadata": {},
   "source": [
    "#### Give me every user name (first and last) in my music app history who listened to the song 'All Hands Against His Own'"
   ]
  },
  {
   "cell_type": "code",
   "execution_count": 15,
   "id": "bddb8f25",
   "metadata": {},
   "outputs": [
    {
     "data": {
      "text/html": [
       "<div>\n",
       "<style scoped>\n",
       "    .dataframe tbody tr th:only-of-type {\n",
       "        vertical-align: middle;\n",
       "    }\n",
       "\n",
       "    .dataframe tbody tr th {\n",
       "        vertical-align: top;\n",
       "    }\n",
       "\n",
       "    .dataframe thead th {\n",
       "        text-align: right;\n",
       "    }\n",
       "</style>\n",
       "<table border=\"1\" class=\"dataframe\">\n",
       "  <thead>\n",
       "    <tr style=\"text-align: right;\">\n",
       "      <th></th>\n",
       "      <th>firstname</th>\n",
       "      <th>lastname</th>\n",
       "      <th>song</th>\n",
       "    </tr>\n",
       "  </thead>\n",
       "  <tbody>\n",
       "    <tr>\n",
       "      <th>0</th>\n",
       "      <td>Jacqueline</td>\n",
       "      <td>Lynch</td>\n",
       "      <td>All Hands Against His Own</td>\n",
       "    </tr>\n",
       "    <tr>\n",
       "      <th>1</th>\n",
       "      <td>Sara</td>\n",
       "      <td>Johnson</td>\n",
       "      <td>All Hands Against His Own</td>\n",
       "    </tr>\n",
       "    <tr>\n",
       "      <th>2</th>\n",
       "      <td>Tegan</td>\n",
       "      <td>Levine</td>\n",
       "      <td>All Hands Against His Own</td>\n",
       "    </tr>\n",
       "  </tbody>\n",
       "</table>\n",
       "</div>"
      ],
      "text/plain": [
       "    firstname lastname                       song\n",
       "0  Jacqueline    Lynch  All Hands Against His Own\n",
       "1        Sara  Johnson  All Hands Against His Own\n",
       "2       Tegan   Levine  All Hands Against His Own"
      ]
     },
     "execution_count": 15,
     "metadata": {},
     "output_type": "execute_result"
    }
   ],
   "source": [
    "query = \"\"\"\n",
    "    SELECT firstName, lastName, song\n",
    "    FROM users_by_song\n",
    "    WHERE song = 'All Hands Against His Own'\n",
    "\"\"\"\n",
    "df = table_manager.query_to_dataframe(query)\n",
    "df"
   ]
  },
  {
   "cell_type": "markdown",
   "id": "7adc534b",
   "metadata": {},
   "source": [
    "### Drop the tables before closing out the sessions"
   ]
  },
  {
   "cell_type": "code",
   "execution_count": 16,
   "id": "49f00bfd",
   "metadata": {},
   "outputs": [],
   "source": [
    "table_manager.drop_table('song_length')\n",
    "table_manager.drop_table('song_by_user_and_session')\n",
    "table_manager.drop_table('users_by_song')"
   ]
  },
  {
   "cell_type": "code",
   "execution_count": 17,
   "id": "dd90f860",
   "metadata": {},
   "outputs": [],
   "source": [
    "cassandra_conn.disconnect()"
   ]
  }
 ],
 "metadata": {
  "kernelspec": {
   "display_name": "Python 3 (ipykernel)",
   "language": "python",
   "name": "python3"
  },
  "language_info": {
   "codemirror_mode": {
    "name": "ipython",
    "version": 3
   },
   "file_extension": ".py",
   "mimetype": "text/x-python",
   "name": "python",
   "nbconvert_exporter": "python",
   "pygments_lexer": "ipython3",
   "version": "3.11.3"
  }
 },
 "nbformat": 4,
 "nbformat_minor": 5
}
